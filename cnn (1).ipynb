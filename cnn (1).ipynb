{
  "nbformat": 4,
  "nbformat_minor": 0,
  "metadata": {
    "colab": {
      "provenance": [],
      "gpuType": "T4"
    },
    "kernelspec": {
      "name": "python3",
      "display_name": "Python 3"
    },
    "language_info": {
      "name": "python"
    },
    "accelerator": "GPU"
  },
  "cells": [
    {
      "cell_type": "code",
      "execution_count": 1,
      "metadata": {
        "id": "oKowPXY8dR5c"
      },
      "outputs": [],
      "source": [
        "import numpy as np\n",
        "import matplotlib.pyplot as plt\n",
        "from keras.callbacks import EarlyStopping\n",
        "from keras.datasets import cifar10\n",
        "from keras.models import Sequential\n",
        "from keras.layers import Dense, Dropout, Flatten, LeakyReLU, Conv2D, MaxPooling2D\n",
        "from keras.optimizers import Adam\n",
        "from keras.utils import to_categorical\n",
        "from sklearn.metrics import confusion_matrix\n"
      ]
    },
    {
      "cell_type": "code",
      "source": [
        "# Load CIFAR-10 dataset\n",
        "(X_train, Y_train), (X_test, Y_test) = cifar10.load_data()\n",
        "\n",
        "# Print training data-related information\n",
        "print(\"Shape of training data:\", X_train.shape)\n",
        "print(\"First 5 labels:\", Y_train[:5])\n"
      ],
      "metadata": {
        "colab": {
          "base_uri": "https://localhost:8080/"
        },
        "id": "EX2AUnjHdw7s",
        "outputId": "eaf0d7db-c752-464b-ae2f-a8de42ba1e02"
      },
      "execution_count": 2,
      "outputs": [
        {
          "output_type": "stream",
          "name": "stdout",
          "text": [
            "Shape of training data: (50000, 32, 32, 3)\n",
            "First 5 labels: [[6]\n",
            " [9]\n",
            " [9]\n",
            " [4]\n",
            " [1]]\n"
          ]
        }
      ]
    },
    {
      "cell_type": "code",
      "source": [
        "# Build CNN model\n",
        "classifier = Sequential()\n",
        "\n",
        "# Add convolutional layers, LeakyReLU, max pooling, and dropout\n",
        "classifier.add(Conv2D(32, kernel_size=(3, 3), padding='same', input_shape=(32, 32, 3)))\n",
        "classifier.add(LeakyReLU(alpha=0.3))\n",
        "classifier.add(Conv2D(64, kernel_size=(3, 3), padding='same'))\n",
        "classifier.add(LeakyReLU(alpha=0.3))\n",
        "classifier.add(MaxPooling2D(pool_size=(2, 2)))\n",
        "classifier.add(Dropout(0.25))\n",
        "\n",
        "classifier.add(Conv2D(128, kernel_size=(3, 3), padding='same'))\n",
        "classifier.add(LeakyReLU(alpha=0.3))\n",
        "classifier.add(MaxPooling2D(pool_size=(2, 2)))\n",
        "classifier.add(Dropout(0.25))\n",
        "\n",
        "classifier.add(Conv2D(128, kernel_size=(3, 3), padding='same'))\n",
        "classifier.add(LeakyReLU(alpha=0.3))\n",
        "classifier.add(MaxPooling2D(pool_size=(2, 2)))\n",
        "classifier.add(Dropout(0.25))\n",
        "\n",
        "# Flatten the output of the last convolutional layer\n",
        "classifier.add(Flatten())\n",
        "\n",
        "# Add a fully connected layer with dropout\n",
        "classifier.add(Dense(1024))\n",
        "classifier.add(LeakyReLU(alpha=0.3))\n",
        "classifier.add(Dropout(0.5))\n",
        "\n",
        "# Add output layer with softmax activation for classification\n",
        "classifier.add(Dense(10, activation='softmax'))\n"
      ],
      "metadata": {
        "id": "Y4eR2Otbdx8A"
      },
      "execution_count": 3,
      "outputs": []
    },
    {
      "cell_type": "code",
      "source": [
        "# Compile CNN model\n",
        "classifier.compile(\n",
        "    loss='categorical_crossentropy',\n",
        "    optimizer=Adam(0.0001,1e-6),\n",
        "    metrics=['accuracy']\n",
        ")\n",
        "\n",
        "# Train CNN model\n",
        "history = classifier.fit(\n",
        "    X_train / 255.0,\n",
        "    to_categorical(Y_train),\n",
        "    batch_size=128,\n",
        "    shuffle=True,\n",
        "    steps_per_epoch=10,\n",
        "    epochs=70,\n",
        "    validation_data=(X_test / 255.0, to_categorical(Y_test)),\n",
        "    callbacks=[EarlyStopping(min_delta=0.01, patience=4)]\n",
        ")\n"
      ],
      "metadata": {
        "colab": {
          "base_uri": "https://localhost:8080/"
        },
        "id": "uOMp3Em5d7Zz",
        "outputId": "a5ff7a1f-0839-44b1-a5f4-639bab663772"
      },
      "execution_count": 4,
      "outputs": [
        {
          "output_type": "stream",
          "name": "stdout",
          "text": [
            "Epoch 1/70\n",
            "10/10 [==============================] - 13s 299ms/step - loss: 2.3046 - accuracy: 0.1070 - val_loss: 2.2924 - val_accuracy: 0.1023\n",
            "Epoch 2/70\n",
            "10/10 [==============================] - 2s 170ms/step - loss: 2.2855 - accuracy: 0.1430 - val_loss: 2.2807 - val_accuracy: 0.1755\n",
            "Epoch 3/70\n",
            "10/10 [==============================] - 1s 121ms/step - loss: 2.2697 - accuracy: 0.1352 - val_loss: 2.2550 - val_accuracy: 0.1338\n",
            "Epoch 4/70\n",
            "10/10 [==============================] - 2s 193ms/step - loss: 2.2219 - accuracy: 0.1703 - val_loss: 2.1985 - val_accuracy: 0.2293\n",
            "Epoch 5/70\n",
            "10/10 [==============================] - 1s 91ms/step - loss: 2.1519 - accuracy: 0.2008 - val_loss: 2.2047 - val_accuracy: 0.1471\n",
            "Epoch 6/70\n",
            "10/10 [==============================] - 1s 96ms/step - loss: 2.1267 - accuracy: 0.2086 - val_loss: 2.0960 - val_accuracy: 0.2455\n",
            "Epoch 7/70\n",
            "10/10 [==============================] - 1s 96ms/step - loss: 2.0766 - accuracy: 0.2359 - val_loss: 2.0488 - val_accuracy: 0.2899\n",
            "Epoch 8/70\n",
            "10/10 [==============================] - 1s 108ms/step - loss: 2.0423 - accuracy: 0.2523 - val_loss: 2.0322 - val_accuracy: 0.2833\n",
            "Epoch 9/70\n",
            "10/10 [==============================] - 1s 76ms/step - loss: 1.9834 - accuracy: 0.2734 - val_loss: 1.9770 - val_accuracy: 0.2988\n",
            "Epoch 10/70\n",
            "10/10 [==============================] - 1s 91ms/step - loss: 1.9699 - accuracy: 0.2867 - val_loss: 1.9213 - val_accuracy: 0.3398\n",
            "Epoch 11/70\n",
            "10/10 [==============================] - 1s 76ms/step - loss: 1.9318 - accuracy: 0.3039 - val_loss: 1.9253 - val_accuracy: 0.3392\n",
            "Epoch 12/70\n",
            "10/10 [==============================] - 1s 91ms/step - loss: 1.9171 - accuracy: 0.3109 - val_loss: 1.8802 - val_accuracy: 0.3512\n",
            "Epoch 13/70\n",
            "10/10 [==============================] - 1s 76ms/step - loss: 1.8693 - accuracy: 0.3344 - val_loss: 1.8961 - val_accuracy: 0.2940\n",
            "Epoch 14/70\n",
            "10/10 [==============================] - 1s 75ms/step - loss: 1.8944 - accuracy: 0.3094 - val_loss: 1.8182 - val_accuracy: 0.3806\n",
            "Epoch 15/70\n",
            "10/10 [==============================] - 1s 76ms/step - loss: 1.8570 - accuracy: 0.3555 - val_loss: 1.8312 - val_accuracy: 0.3583\n",
            "Epoch 16/70\n",
            "10/10 [==============================] - 1s 91ms/step - loss: 1.8391 - accuracy: 0.3219 - val_loss: 1.8057 - val_accuracy: 0.3691\n",
            "Epoch 17/70\n",
            "10/10 [==============================] - 1s 94ms/step - loss: 1.8124 - accuracy: 0.3508 - val_loss: 1.8977 - val_accuracy: 0.3129\n",
            "Epoch 18/70\n",
            "10/10 [==============================] - 1s 93ms/step - loss: 1.8147 - accuracy: 0.3461 - val_loss: 1.7797 - val_accuracy: 0.3804\n",
            "Epoch 19/70\n",
            "10/10 [==============================] - 1s 92ms/step - loss: 1.7958 - accuracy: 0.3555 - val_loss: 1.7520 - val_accuracy: 0.3936\n",
            "Epoch 20/70\n",
            "10/10 [==============================] - 1s 77ms/step - loss: 1.7729 - accuracy: 0.3672 - val_loss: 1.7608 - val_accuracy: 0.3786\n",
            "Epoch 21/70\n",
            "10/10 [==============================] - 1s 76ms/step - loss: 1.7993 - accuracy: 0.3586 - val_loss: 1.7363 - val_accuracy: 0.3968\n",
            "Epoch 22/70\n",
            "10/10 [==============================] - 1s 75ms/step - loss: 1.8116 - accuracy: 0.3438 - val_loss: 1.7335 - val_accuracy: 0.3985\n",
            "Epoch 23/70\n",
            "10/10 [==============================] - 1s 91ms/step - loss: 1.7578 - accuracy: 0.3680 - val_loss: 1.7616 - val_accuracy: 0.3835\n",
            "Epoch 24/70\n",
            "10/10 [==============================] - 1s 76ms/step - loss: 1.7760 - accuracy: 0.3680 - val_loss: 1.7279 - val_accuracy: 0.3925\n",
            "Epoch 25/70\n",
            "10/10 [==============================] - 1s 91ms/step - loss: 1.7449 - accuracy: 0.3547 - val_loss: 1.7346 - val_accuracy: 0.3882\n"
          ]
        }
      ]
    },
    {
      "cell_type": "code",
      "source": [
        "# Evaluate CNN model\n",
        "scores = classifier.evaluate(X_test / 255.0, to_categorical(Y_test))\n",
        "print('Loss:', scores[0])\n",
        "print('Accuracy:', scores[1])\n",
        "\n",
        "# Check for overfitting\n",
        "plt.plot(history.history['loss'])\n",
        "plt.plot(history.history['val_loss'])\n",
        "plt.title('Model Loss')\n",
        "plt.ylabel('Loss')\n",
        "plt.xlabel('Epoch')\n",
        "plt.legend(['Train', 'Test'], loc='upper left')\n",
        "plt.show()\n"
      ],
      "metadata": {
        "colab": {
          "base_uri": "https://localhost:8080/",
          "height": 524
        },
        "id": "aa_WapX2hJBK",
        "outputId": "e334650c-7969-49c8-ba82-9401714bc39d"
      },
      "execution_count": 5,
      "outputs": [
        {
          "output_type": "stream",
          "name": "stdout",
          "text": [
            "313/313 [==============================] - 1s 3ms/step - loss: 1.7346 - accuracy: 0.3882\n",
            "Loss: 1.7345653772354126\n",
            "Accuracy: 0.3882000148296356\n"
          ]
        },
        {
          "output_type": "display_data",
          "data": {
            "text/plain": [
              "<Figure size 640x480 with 1 Axes>"
            ],
            "image/png": "[encoded data removed]"
          },
          "metadata": {}
        }
      ]
    },
    {
      "cell_type": "code",
      "source": [
        "# Make predictions\n",
        "sample_id = 108\n",
        "plt.figure(figsize=(4, 4))\n",
        "plt.imshow(X_test[sample_id])\n",
        "plt.axis('off')\n",
        "plt.show()\n",
        "\n",
        "print(\"Predicted class:\", np.argmax(classifier.predict((X_test[sample_id].reshape((1,) + X_test[sample_id].shape) / 255.0))))\n"
      ],
      "metadata": {
        "colab": {
          "base_uri": "https://localhost:8080/",
          "height": 380
        },
        "id": "2ExICarseZCv",
        "outputId": "3bca501a-e6d8-4468-c80d-17276d878def"
      },
      "execution_count": 6,
      "outputs": [
        {
          "output_type": "display_data",
          "data": {
            "text/plain": [
              "<Figure size 400x400 with 1 Axes>"
            ],
            "image/png": "[encoded data removed]"
          },
          "metadata": {}
        },
        {
          "output_type": "stream",
          "name": "stdout",
          "text": [
            "1/1 [==============================] - 0s 265ms/step\n",
            "Predicted class: 5\n"
          ]
        }
      ]
    },
    {
      "cell_type": "code",
      "source": [
        "# Print confusion matrix\n",
        "Y_preds = classifier.predict(X_test / 255.0)\n",
        "cm = confusion_matrix(Y_test.argmax(axis=1), Y_preds.argmax(axis=1))\n",
        "print(\"Confusion Matrix:\")\n",
        "print(cm)\n"
      ],
      "metadata": {
        "colab": {
          "base_uri": "https://localhost:8080/"
        },
        "id": "gz-f-EIahqbq",
        "outputId": "737abc2d-e6fa-4cd7-a51b-901a1e17ea0f"
      },
      "execution_count": 7,
      "outputs": [
        {
          "output_type": "stream",
          "name": "stdout",
          "text": [
            "313/313 [==============================] - 1s 2ms/step\n",
            "Confusion Matrix:\n",
            "[[2229 1369  932  488  810  561  940  963  961  747]\n",
            " [   0    0    0    0    0    0    0    0    0    0]\n",
            " [   0    0    0    0    0    0    0    0    0    0]\n",
            " [   0    0    0    0    0    0    0    0    0    0]\n",
            " [   0    0    0    0    0    0    0    0    0    0]\n",
            " [   0    0    0    0    0    0    0    0    0    0]\n",
            " [   0    0    0    0    0    0    0    0    0    0]\n",
            " [   0    0    0    0    0    0    0    0    0    0]\n",
            " [   0    0    0    0    0    0    0    0    0    0]\n",
            " [   0    0    0    0    0    0    0    0    0    0]]\n"
          ]
        }
      ]
    },
    {
      "cell_type": "code",
      "source": [],
      "metadata": {
        "id": "V3ohdcmQitIl"
      },
      "execution_count": 7,
      "outputs": []
    }
  ]
}