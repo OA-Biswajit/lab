{
  "cells": [
    {
      "cell_type": "code",
      "execution_count": null,
      "metadata": {
        "id": "004bSrZskEX7"
      },
      "outputs": [],
      "source": [
        "import tensorflow as tf\n",
        "from tensorflow.examples.tutorials.mnist import input_data\n",
        "import numpy as np\n",
        "import matplotlib.pyplot as plt"
      ]
    },
    {
      "cell_type": "code",
      "execution_count": null,
      "metadata": {
        "id": "pvI8GgsUkLaO"
      },
      "outputs": [],
      "source": [
        "mnist = input_data.read_data_sets(\"MNIST/\", one_hot=True)\n"
      ]
    },
    {
      "cell_type": "code",
      "execution_count": null,
      "metadata": {
        "id": "Z54Qv6xwkj3R"
      },
      "outputs": [],
      "source": [
        "image_size = 28\n",
        "num_labels = 10\n",
        "learning_rate = 0.05\n",
        "number_of_steps = 1000\n",
        "batch_size = 100"
      ]
    },
    {
      "cell_type": "code",
      "execution_count": null,
      "metadata": {
        "id": "AK9GPr2zk7hA"
      },
      "outputs": [],
      "source": [
        "import tensorflow as tf\n",
        "\n",
        "# Define placeholders\n",
        "x_train = tf.placeholder(tf.float32, [None, image_size * image_size])\n",
        "y_train = tf.placeholder(tf.float32, [None, num_labels])\n",
        "\n",
        "# Print the training set placeholder variable\n",
        "print(x_train)"
      ]
    },
    {
      "cell_type": "code",
      "execution_count": null,
      "metadata": {
        "id": "h_IE1_rum6HT"
      },
      "outputs": [],
      "source": [
        "left = 2.5\n",
        "top = 2.5\n",
        "fig = plt.figure(figsize=(10, 10))\n",
        "\n",
        "for i in range(6):\n",
        "    ax = fig.add_subplot(3, 2, i + 1)\n",
        "    im = np.reshape(mnist.train.images[i, :], [28, 28])\n",
        "    label = np.argmax(mnist.train.labels[i, :])\n",
        "    ax.imshow(im, cmap='Greys')\n",
        "    ax.text(left, top, str(label))\n",
        "\n",
        "plt.show()\n"
      ]
    },
    {
      "cell_type": "code",
      "execution_count": null,
      "metadata": {
        "id": "oMOChT1nm-H6"
      },
      "outputs": [],
      "source": [
        "import tensorflow as tf\n",
        "\n",
        "# Placeholder for the data (inputs and outputs)\n",
        "inputs = tf.placeholder(tf.float32, [None, 784])\n",
        "\n",
        "# Weights: the weights for each pixel for each class\n",
        "# Bias: bias of each class\n",
        "weights = tf.Variable(tf.random_normal([784, 10]))  # Corrected typo and initialized randomly\n",
        "bias = tf.Variable(tf.random_normal([10]))  # Initialized randomly\n",
        "\n"
      ]
    },
    {
      "cell_type": "code",
      "execution_count": null,
      "metadata": {
        "id": "DVW_3CTBnKJd"
      },
      "outputs": [],
      "source": [
        "import tensorflow as tf\n",
        "\n",
        "# Output of the neural network using softmax activation\n",
        "outputs = tf.nn.softmax(tf.matmul(inputs, weights) + bias)\n",
        "\n",
        "# Create a placeholder to input the right answers\n",
        "y = tf.placeholder(tf.float32, [None, 10])\n",
        "\n",
        "# A measure of model precision using cross-entropy\n",
        "cross_entropy = tf.reduce_mean(-tf.reduce_sum(y * tf.log(outputs), axis=1))\n"
      ]
    },
    {
      "cell_type": "code",
      "execution_count": null,
      "metadata": {
        "id": "4jMrMtQcnQit"
      },
      "outputs": [],
      "source": [
        "import tensorflow as tf\n",
        "from tensorflow.examples.tutorials.mnist import input_data\n",
        "\n",
        "# Define placeholders\n",
        "inputs = tf.placeholder(tf.float32, [None, 784])\n",
        "y = tf.placeholder(tf.float32, [None, 10])\n",
        "\n",
        "# Define weights and biases\n",
        "weights = tf.Variable(tf.random_normal([784, 10]))\n",
        "bias = tf.Variable(tf.random_normal([10]))\n",
        "\n",
        "# Output of the neural network using softmax activation\n",
        "outputs = tf.nn.softmax(tf.matmul(inputs, weights) + bias)\n",
        "\n",
        "# Cross-entropy loss\n",
        "cross_entropy = tf.reduce_mean(-tf.reduce_sum(y * tf.log(outputs), axis=1))\n",
        "\n",
        "# Minimize the cross-entropy using gradient descent\n",
        "learning_rate = 0.05\n",
        "train_step = tf.train.GradientDescentOptimizer(learning_rate).minimize(cross_entropy)\n",
        "\n",
        "# Initialize variables\n",
        "init = tf.global_variables_initializer()\n",
        "\n",
        "# Create a session\n",
        "with tf.Session() as sess:\n",
        "    sess.run(init)\n",
        "\n",
        "    # Run training steps\n",
        "    for i in range(number_of_steps):\n",
        "        # Get random 100 data samples from the training set\n",
        "        batch_xs, batch_ys = mnist.train.next_batch(batch_size)\n",
        "        # Feed them to the model\n",
        "        sess.run(train_step, feed_dict={inputs: batch_xs, y: batch_ys})\n"
      ]
    },
    {
      "cell_type": "code",
      "execution_count": null,
      "metadata": {
        "id": "F0A3sbCvnY0z"
      },
      "outputs": [],
      "source": [
        "# Evaluate the model\n",
        "correct_prediction = tf.equal(tf.argmax(outputs, 1), tf.argmax(y, 1))\n",
        "accuracy = tf.reduce_mean(tf.cast(correct_prediction, tf.float32))\n",
        "\n",
        "# Print the accuracy\n",
        "print(\"Accuracy:\", sess.run(accuracy, feed_dict={inputs: mnist.test.images, y: mnist.test.labels}))"
      ]
    }
  ],
  "metadata": {
    "accelerator": "GPU",
    "colab": {
      "gpuType": "T4",
      "provenance": []
    },
    "kernelspec": {
      "display_name": "Python 3",
      "name": "python3"
    },
    "language_info": {
      "codemirror_mode": {
        "name": "ipython",
        "version": 3
      },
      "file_extension": ".py",
      "mimetype": "text/x-python",
      "name": "python",
      "nbconvert_exporter": "python",
      "pygments_lexer": "ipython3",
      "version": "3.11.4"
    }
  },
  "nbformat": 4,
  "nbformat_minor": 0
}
